{
  "cells": [
    {
      "cell_type": "markdown",
      "metadata": {
        "id": "view-in-github",
        "colab_type": "text"
      },
      "source": [
        "<a href=\"https://colab.research.google.com/github/Bouncy0Knight/Exercise_5/blob/main/CompModNervSys_exercise5.ipynb\" target=\"_parent\"><img src=\"https://colab.research.google.com/assets/colab-badge.svg\" alt=\"Open In Colab\"/></a>"
      ]
    },
    {
      "cell_type": "markdown",
      "metadata": {
        "id": "tSawaquoIBf9"
      },
      "source": [
        "# BIOL 74.03 (SP23): Computational Modeling of the Nervous System \n",
        "# Exercise 5: Simulating leaky integrate and fire neuron model in NEURON\n",
        "\n",
        "### Exercise goals\n",
        "\n",
        "1) Become familiar with basic functions of NEURON simulator package\n",
        "\n",
        "2) Simulate leaky integrate and fire neuron model in NEURON by adding spiking mechanism to RC neuron model\n",
        "\n",
        "3) Generate and understand frequency–input plot of neuronal excitability\n",
        "\n",
        "Work through the code below, running each cell, adding code where required, and making sure you understand the output. When you see questions with ***Q:*** preceding them, write your responses in text cells. \n"
      ]
    },
    {
      "cell_type": "code",
      "execution_count": 151,
      "metadata": {
        "colab": {
          "base_uri": "https://localhost:8080/"
        },
        "id": "VWO7brUSssu7",
        "outputId": "625c6910-bda8-4a7b-e825-69d9c55b1fa7"
      },
      "outputs": [
        {
          "output_type": "stream",
          "name": "stdout",
          "text": [
            "fatal: destination path 'CompModNervSys-LIFneuron' already exists and is not an empty directory.\n"
          ]
        }
      ],
      "source": [
        "!git clone https://github.com/CompModNervSystem/CompModNervSys-LIFneuron.git # downloads repository into our Google colab session's file system\n",
        "\n"
      ]
    },
    {
      "cell_type": "markdown",
      "metadata": {
        "id": "ewvQmY3oMtCj"
      },
      "source": [
        "Since NEURON is an external toolbox (doesn't come prepackaged in Google colab), we'll need to install it at the start of a new session. There are a couple different ways to install python packages, but the easiest is to use the built in package installer `pip`. Normally, this would be done outside of the python environment in a command-line shell environemnt (e.g., from the `Terminal` app on mac/linux or one of the various shell environments on windows). But, we can also do this from within a Jupyter/Colab notebook using the the % sign (aka [magics](https://ipython.readthedocs.io/en/stable/interactive/magics.html)).\n",
        "\n",
        "Run the cell below to install NEURON"
      ]
    },
    {
      "cell_type": "code",
      "execution_count": 152,
      "metadata": {
        "id": "Id6Kv1CTMtCj",
        "outputId": "4977706d-62e2-49c5-e5a1-4c4328c3ffda",
        "colab": {
          "base_uri": "https://localhost:8080/"
        }
      },
      "outputs": [
        {
          "output_type": "stream",
          "name": "stdout",
          "text": [
            "Looking in indexes: https://pypi.org/simple, https://us-python.pkg.dev/colab-wheels/public/simple/\n",
            "Requirement already satisfied: neuron in /usr/local/lib/python3.9/dist-packages (8.2.2)\n",
            "Requirement already satisfied: numpy>=1.9.3 in /usr/local/lib/python3.9/dist-packages (from neuron) (1.22.4)\n"
          ]
        }
      ],
      "source": [
        "%pip install neuron # only need to run this cell once to install \n",
        "                    # neuron in the local jupyter environment"
      ]
    },
    {
      "cell_type": "markdown",
      "metadata": {
        "id": "UzjPDvLLMtCk"
      },
      "source": [
        "# Recapping basics of scripting in NEURON\n",
        "\n",
        "Below, we'll review the basic steps shown in the NEURON Python tutorial (Adapted from https://neuron.yale.edu/neuron/docs/scripting-neuron-basics)"
      ]
    },
    {
      "cell_type": "code",
      "execution_count": 153,
      "metadata": {
        "id": "GuOXWp0aMtCk"
      },
      "outputs": [],
      "source": [
        "from neuron import h # all NEURON hoc functions are accessed through h\n",
        "from neuron import gui # if you're running this notebook in a local environment (instead of on google colab), launches the GUI\n",
        "h.load_file('stdrun.hoc') # loads neuron standard hoc library, not always necessary \n",
        "import matplotlib.pyplot as plt\n",
        "import numpy as np\n"
      ]
    },
    {
      "cell_type": "markdown",
      "metadata": {
        "id": "RcGUyBgYMtCk"
      },
      "source": [
        "## Step 1: Create a cell"
      ]
    },
    {
      "cell_type": "code",
      "execution_count": 154,
      "metadata": {
        "id": "U2deGwbhMtCl"
      },
      "outputs": [],
      "source": [
        "# Create a single section we'll call 'soma'\n",
        "soma = h.Section(name='soma') "
      ]
    },
    {
      "cell_type": "markdown",
      "metadata": {
        "id": "Kfato3dMMtCl"
      },
      "source": [
        "When we start to build neuron models with more than one section, a useful function is `h.topology()`, which displays the topological (tree-like) structure of all the sections we created in the model. This tells you how the *sections* are connected to each other and how many *segments* each section has. For our single section model, it's fairly simple, but you can use it to see what you've created so far.  "
      ]
    },
    {
      "cell_type": "code",
      "execution_count": 155,
      "metadata": {
        "id": "FI5sO8pGMtCm",
        "outputId": "c6ce63ff-18e6-495e-cb78-06390c15942f",
        "colab": {
          "base_uri": "https://localhost:8080/"
        }
      },
      "outputs": [
        {
          "output_type": "stream",
          "name": "stdout",
          "text": [
            "\n",
            "|-|       soma(0-1)\n",
            "|-|       soma(0-1)\n",
            "|-|       soma(0-1)\n",
            "|-|       soma(0-1)\n",
            "|-|       soma(0-1)\n",
            "|-|       soma(0-1)\n",
            "|-|       soma(0-1)\n",
            "\n"
          ]
        },
        {
          "output_type": "execute_result",
          "data": {
            "text/plain": [
              "1.0"
            ]
          },
          "metadata": {},
          "execution_count": 155
        }
      ],
      "source": [
        "h.topology()"
      ]
    },
    {
      "cell_type": "markdown",
      "metadata": {
        "id": "G5tyF0q7MtCm"
      },
      "source": [
        "A useful `method` (a function that can be called on an object) that exists for each NEURON section is the `psection` method. It returns a Python dictionary displaying the properties of a section."
      ]
    },
    {
      "cell_type": "code",
      "execution_count": 156,
      "metadata": {
        "id": "g3FqazwSMtCm",
        "outputId": "d2b3dfff-ae7a-4d2b-ac37-e3b2bf9ad3f5",
        "colab": {
          "base_uri": "https://localhost:8080/"
        }
      },
      "outputs": [
        {
          "output_type": "execute_result",
          "data": {
            "text/plain": [
              "{'point_processes': {},\n",
              " 'density_mechs': {},\n",
              " 'ions': {},\n",
              " 'morphology': {'L': 100.0,\n",
              "  'diam': [500.0],\n",
              "  'pts3d': [],\n",
              "  'parent': None,\n",
              "  'trueparent': None},\n",
              " 'nseg': 1,\n",
              " 'Ra': 35.4,\n",
              " 'cm': [1.0],\n",
              " 'regions': set(),\n",
              " 'species': set(),\n",
              " 'name': 'soma',\n",
              " 'hoc_internal_name': '__nrnsec_0x3156a30',\n",
              " 'cell': None}"
            ]
          },
          "metadata": {},
          "execution_count": 156
        }
      ],
      "source": [
        "soma.psection()"
      ]
    },
    {
      "cell_type": "markdown",
      "metadata": {
        "id": "QidLBnaOMtCn"
      },
      "source": [
        "If you wanted to access, for example, the length of this section, you could use the `'morphology'` key and grab the value of `L`:"
      ]
    },
    {
      "cell_type": "code",
      "execution_count": 157,
      "metadata": {
        "id": "4n4nAnOWMtCn",
        "outputId": "c75846c9-6073-44f4-b0c8-041372a415a2",
        "colab": {
          "base_uri": "https://localhost:8080/"
        }
      },
      "outputs": [
        {
          "output_type": "stream",
          "name": "stdout",
          "text": [
            "L = 100.0\n"
          ]
        }
      ],
      "source": [
        "print('L = {}'.format(soma.psection()['morphology']['L']))"
      ]
    },
    {
      "cell_type": "markdown",
      "metadata": {
        "id": "UOcNDwaFMtCn"
      },
      "source": [
        "<span style=\"color:red\"> <b><i>Q2</b></i>: By inspecting the output of psection, what are the default values NEURON assigned to length, diameter, and cm? The default units for all these quantities can be found <a href=\"https://www.neuron.yale.edu/neuron/static/docs/units/unitchart.html \">here</a> </span>"
      ]
    },
    {
      "cell_type": "markdown",
      "metadata": {
        "id": "EcLb6ecpMtCn"
      },
      "source": [
        "The default length is 100 um, the diameter is 500 um, and the cm is 1 uf/cm^2\n",
        "\n",
        "It's usually more efficient to grab some of these values directly, e.g., you can access a section and set it's value directly using dot notation:"
      ]
    },
    {
      "cell_type": "code",
      "execution_count": 158,
      "metadata": {
        "id": "2zjU8mQoMtCo",
        "outputId": "a1dfc887-3274-44d0-c7f3-b658fe34e1b1",
        "colab": {
          "base_uri": "https://localhost:8080/"
        }
      },
      "outputs": [
        {
          "output_type": "execute_result",
          "data": {
            "text/plain": [
              "100.0"
            ]
          },
          "metadata": {},
          "execution_count": 158
        }
      ],
      "source": [
        "soma.L"
      ]
    },
    {
      "cell_type": "markdown",
      "metadata": {
        "id": "kIW7-GEfMtCo"
      },
      "source": [
        "## Step 2: Set the cell's morphological (geometrical) properties\n",
        "\n",
        "Set the soma's diameter (`diam`) and length (`L`) to $20 \\mu m$. Use `psection` to check that the values have been updated. "
      ]
    },
    {
      "cell_type": "code",
      "execution_count": 159,
      "metadata": {
        "id": "MaZ-TF6xMtCo",
        "outputId": "fdc38240-19f8-4806-8e2e-2a4283aa1119",
        "colab": {
          "base_uri": "https://localhost:8080/"
        }
      },
      "outputs": [
        {
          "output_type": "execute_result",
          "data": {
            "text/plain": [
              "{'point_processes': {},\n",
              " 'density_mechs': {},\n",
              " 'ions': {},\n",
              " 'morphology': {'L': 20.0,\n",
              "  'diam': [20.0],\n",
              "  'pts3d': [],\n",
              "  'parent': None,\n",
              "  'trueparent': None},\n",
              " 'nseg': 1,\n",
              " 'Ra': 35.4,\n",
              " 'cm': [1.0],\n",
              " 'regions': set(),\n",
              " 'species': set(),\n",
              " 'name': 'soma',\n",
              " 'hoc_internal_name': '__nrnsec_0x3156a30',\n",
              " 'cell': None}"
            ]
          },
          "metadata": {},
          "execution_count": 159
        }
      ],
      "source": [
        "soma.diam = 20\n",
        "soma.L = 20\n",
        "soma.psection()"
      ]
    },
    {
      "cell_type": "markdown",
      "metadata": {
        "id": "agMyJfneMtCo"
      },
      "source": [
        "We'll also specify that this section has a single segment using `nseg`"
      ]
    },
    {
      "cell_type": "code",
      "execution_count": 160,
      "metadata": {
        "id": "kI8IKcsmMtCo"
      },
      "outputs": [],
      "source": [
        "soma.nseg = 1"
      ]
    },
    {
      "cell_type": "markdown",
      "metadata": {
        "id": "JFoFQE-OMtCp"
      },
      "source": [
        "You can also probe objects with Python's built in `dir()` function, e.g. for the soma:"
      ]
    },
    {
      "cell_type": "code",
      "execution_count": 161,
      "metadata": {
        "id": "2AdBAeLcMtCp",
        "outputId": "7285c99a-13b5-483e-8bbf-85178abecfc6",
        "colab": {
          "base_uri": "https://localhost:8080/"
        }
      },
      "outputs": [
        {
          "output_type": "execute_result",
          "data": {
            "text/plain": [
              "['L',\n",
              " 'Ra',\n",
              " '__call__',\n",
              " '__class__',\n",
              " '__contains__',\n",
              " '__delattr__',\n",
              " '__dir__',\n",
              " '__doc__',\n",
              " '__eq__',\n",
              " '__format__',\n",
              " '__ge__',\n",
              " '__getattribute__',\n",
              " '__gt__',\n",
              " '__hash__',\n",
              " '__init__',\n",
              " '__init_subclass__',\n",
              " '__iter__',\n",
              " '__le__',\n",
              " '__lt__',\n",
              " '__module__',\n",
              " '__ne__',\n",
              " '__new__',\n",
              " '__reduce__',\n",
              " '__reduce_ex__',\n",
              " '__repr__',\n",
              " '__setattr__',\n",
              " '__sizeof__',\n",
              " '__str__',\n",
              " '__subclasshook__',\n",
              " 'allseg',\n",
              " 'arc3d',\n",
              " 'cell',\n",
              " 'children',\n",
              " 'connect',\n",
              " 'diam3d',\n",
              " 'disconnect',\n",
              " 'has_membrane',\n",
              " 'hname',\n",
              " 'hoc_internal_name',\n",
              " 'insert',\n",
              " 'is_pysec',\n",
              " 'n3d',\n",
              " 'name',\n",
              " 'nseg',\n",
              " 'orientation',\n",
              " 'parentseg',\n",
              " 'psection',\n",
              " 'pt3dadd',\n",
              " 'pt3dchange',\n",
              " 'pt3dclear',\n",
              " 'pt3dinsert',\n",
              " 'pt3dremove',\n",
              " 'pt3dstyle',\n",
              " 'push',\n",
              " 'rallbranch',\n",
              " 'same',\n",
              " 'spine3d',\n",
              " 'subtree',\n",
              " 'trueparentseg',\n",
              " 'uninsert',\n",
              " 'wholetree',\n",
              " 'x3d',\n",
              " 'y3d',\n",
              " 'z3d']"
            ]
          },
          "metadata": {},
          "execution_count": 161
        }
      ],
      "source": [
        "dir(soma)"
      ]
    },
    {
      "cell_type": "markdown",
      "metadata": {
        "id": "IyQBybiNMtCp"
      },
      "source": [
        "You can also do this to see all the functions, variables, etc. available in NEURON's `h` submodule, which allows us to access NEURON's `hoc` interpreter (basically like the backend). We'll use `textwrap` as in the NEURON Python tutorial to make the display a little cleaner"
      ]
    },
    {
      "cell_type": "code",
      "execution_count": 162,
      "metadata": {
        "id": "d-G4i5l5MtCp",
        "outputId": "8f48920a-9216-45be-d545-2d4141173b1a",
        "colab": {
          "base_uri": "https://localhost:8080/"
        }
      },
      "outputs": [
        {
          "output_type": "stream",
          "name": "stdout",
          "text": [
            "APCount, AlphaSynapse, AtolTool, AtolToolItem, Avogadro_constant,\n",
            "BBSaveState, CVode, DEG, Deck, E, ExecCommand, Exp2Syn, ExpSyn,\n",
            "FARADAY, FInitializeHandler, Family, File, GAMMA, GUIMath, Glyph,\n",
            "Graph, HBox, IClamp, Impedance, Inserter, IntFire1, IntFire2,\n",
            "IntFire4, KSChan, KSGate, KSState, KSTrans, L, LinearMechanism, List,\n",
            "Matrix, MechanismStandard, MechanismType, MenuExplore, NEURONMainMenu,\n",
            "NetCon, NetStim, NumericalMethodPanel, OClamp, PHI, PI, PPShape,\n",
            "PWManager, ParallelContext, PatternStim, Plot, PlotShape,\n",
            "PointBrowser, PointProcessLocator, PointProcessManager,\n",
            "PointProcessMark, Pointer, PtrVector, PythonObject, R, Ra, Random,\n",
            "RangeVarPlot, SEClamp, SaveState, Section, SectionBrowser,\n",
            "SectionList, SectionRef, Shape, ShapeBrowser, ShapeLocation,\n",
            "SingleChan, StateTransitionEvent, String, StringFunctions, SymChooser,\n",
            "TQueue, TextEditor, Timer, VBox, VClamp, ValueFieldEditor, Vector,\n",
            "WindowGroup, WindowGroupItem, WindowGroupManager, WindowMenu, __abs__,\n",
            "__add__, __bool__, __call__, __class__, __delattr__, __delitem__,\n",
            "__dir__, __doc__, __eq__, __format__, __ge__, __getattribute__,\n",
            "__getitem__, __gt__, __hash__, __init__, __init_subclass__, __iter__,\n",
            "__le__, __len__, __lt__, __module__, __mul__, __ne__, __neg__,\n",
            "__new__, __next__, __pos__, __radd__, __reduce__, __reduce_ex__,\n",
            "__repr__, __rmul__, __rsub__, __rtruediv__, __setattr__, __setitem__,\n",
            "__setstate__, __sizeof__, __str__, __sub__, __subclasshook__,\n",
            "__truediv__, _pysec, abs, access, addplot, advance, allobjects,\n",
            "allobjectvars, allsec, arc3d, area, argtype, atan, atan2, attr_praxis,\n",
            "axis, baseattr, batch_run, batch_save, begintemplate, boolean_dialog,\n",
            "break, buildmenu, capacitance, cas, case, cbimportmenu, celsius,\n",
            "celsius_panel, channel_builder, chdir, checkpoint, clamp_resist,\n",
            "classname, clipboard_file, clipboard_get, clipboard_retrieve,\n",
            "clipboard_save, clipboard_set, cm, cnt, connect, continue,\n",
            "continue_dialog, continuerun, coredump_on_error, coreneuronrunning_,\n",
            "cos, create, cvode, cvode_active, cvode_local, cvode_simgraph, debug,\n",
            "default_dll_loaded_, define_shape, delete, delete_section, depvar,\n",
            "diam, diam3d, diam_changed, dik_dv_, dina_dv_, disconnect, distance,\n",
            "distmechmenu, distmechviewers, doEvents, doNotify, double, dt,\n",
            "e_extracellular, e_fastpas, e_pas, ek, el_hh, else, ena, endtemplate,\n",
            "eps_IntFire4, eqinit, eqn, erf, erfc, eventcount, eventslow,\n",
            "execerror, execute, execute1, exp, external, extracellular, fadvance,\n",
            "fast_flush_list, fastflushPlot, fastpas, fclamp, fclampi, fclampv,\n",
            "fcurrent, finitialize, fit_praxis, fittingmenu, float_epsilon,\n",
            "flushPlot, flush_list, fmatrix, fmenu, for, forall, forsec, fprint,\n",
            "frecord_init, fscan, fstim, fstimi, fsyn, fsyng, fsyni, func,\n",
            "g_fastpas, g_pas, getSpineArea, getcwd, getstr, ghk, gk_hh, gkbar_hh,\n",
            "gl_hh, global_ra, globalra_panel, gna_hh, gnabar_hh, graph, graphItem,\n",
            "graphList, graph_menu_remove_most, graphmenu, graphmode, h_hh, help,\n",
            "helpmenu, hh, hinf_hh, hname, hoc_ac_, hoc_cross_x_, hoc_cross_y_,\n",
            "hoc_obj_, hoc_pointer_, hoc_sf_, hoc_stdout, hocobjptr, htau_hh, i,\n",
            "i_cap, i_membrane, i_membrane_, i_pas, ib_IntFire4, if, ifsec, ik,\n",
            "il_hh, impedancemenu, ina, init, initPlot, initnrn, insert,\n",
            "install_vector_fitness, int, ion_charge, ion_register, ion_style,\n",
            "ismembrane, issection, iterator, iterator_statement, itmp, ivoc_style,\n",
            "j, k_ion, keep_nseg_parm, ki, ki0_k_ion, ko, ko0_k_ion, lambda_f,\n",
            "libpython_path, load_file, load_func, load_proc, load_template, local,\n",
            "localobj, log, log10, lw, m_hh, machine_name, makeFamily,\n",
            "makeMenuExplore, makePointBrowser, make_mechanism, make_pointprocess,\n",
            "makeinserter, makeppm, mapped_nrnmainmenu_, mcell_ran4,\n",
            "mcell_ran4_init, minf_hh, miscellaneousmenu, morphology,\n",
            "movie_frame_dur_, movie_timer, movierun, movierunbox, movierunpanel,\n",
            "movierunsave, moviestep, mtau_hh, n3d, n_graph_lists, n_hh, na_ion,\n",
            "nai, nai0_na_ion, name_declared, nao, nao0_na_ion, nernst, neuronhome,\n",
            "new, newPlot, newPlotI, newPlotS, newPlotV, newcommand, newphaseplane,\n",
            "newshapeplot, newvectorplot, ninf_hh, nlayer_extracellular, node_data,\n",
            "nrn_feenableexcept, nrn_load_dll, nrn_mallinfo,\n",
            "nrn_netrec_state_adjust, nrn_shape_changed_, nrn_sparse_partrans,\n",
            "nrnallpointmenu, nrnallsectionmenu, nrncontrolmenu, nrnglobalmechmenu,\n",
            "nrniv_bind_thread, nrnmainmenu, nrnmainmenu_, nrnmechmenu,\n",
            "nrnmpi_init, nrnpointmenu, nrnpython, nrnsecmenu, nrnunit_use_legacy,\n",
            "nrnversion, nseg, nstep_steprun, ntau_hh, numarg,\n",
            "numericalmethodpanel, obfunc, object_id, object_index, object_pop,\n",
            "object_push, object_pushed, objectvar, objref, parallel,\n",
            "parent_connection, parent_node, parent_section, pas, plot, plotx,\n",
            "ploty, plt, pointmenu, pointprocessesmenu, pop_section, print,\n",
            "print_session, printf, prjnrn, prmat, proc, prstim, psection, pt3dadd,\n",
            "pt3dchange, pt3dclear, pt3dconst, pt3dinsert, pt3dremove, pt3dstyle,\n",
            "public, push_section, pval_praxis, pwman_place, pyobj, quit,\n",
            "rallbranch, rates_hh, read, realtime, ref, regraph, retrieveaudit,\n",
            "return, ri, ropen, rtstart, run, runStopAt, runStopIn, runbutton,\n",
            "running_, same, save_session, saveaudit, screen_update,\n",
            "screen_update_invl, secname, secondorder, section_exists,\n",
            "section_orientation, section_owner, sectionname, setSpineArea, set_ra,\n",
            "set_v_init, setcolor, setdata_feature, setdata_hh, setdata_pas, setdt,\n",
            "setpointer, show_errmess_always, show_winio, sin, solve, spine3d,\n",
            "sprint, sqrt, sred, sscanf, startsw, stdinit, stdrun_quiet, step,\n",
            "steprun, steps_per_ms, stop, stop_praxis, stoppedrun, stoprun, stopsw,\n",
            "strcmp, strdef, string_dialog, symbols, system, t, tanh,\n",
            "taueps_IntFire4, temp_string2_, temp_string_, tempobj, tempobj2,\n",
            "tempstr1, tempstr2, this_node, this_section, tobj, tobj1, toolmenu,\n",
            "topology, tstop, tstop_changed, tstr, uninsert, units, unix_mac_pc,\n",
            "use_mcell_ran4, using_cvode_, v, v_init, valid_name_syntax,\n",
            "variable_domain, vectormenu, vext, vtrap_hh, while, windowmenu, wopen,\n",
            "x3d, xbutton, xc, xcheckbox, xfixedvalue, xg, xlabel, xmenu, xopen,\n",
            "xopen_broadcast_, xpanel, xpvalue, xradiobutton, xraxial, xred,\n",
            "xslider, xstatebutton, xvalue, xvarlabel, y3d, z3d\n"
          ]
        }
      ],
      "source": [
        "import textwrap\n",
        "print(textwrap.fill(', '.join(dir(h))))"
      ]
    },
    {
      "cell_type": "markdown",
      "metadata": {
        "id": "QFWs14q1MtCp"
      },
      "source": [
        "From the tutorial: \"(The <tt>', '.join(...)</tt> tells Python to build a string out of the list returned by <tt>dir</tt> where the items are separated from each other with a comma and a space. The <tt>textwrap.fill(...)</tt> tells Python to split long lines into multiple lines, by default a maximum of 70 characters long.)\""
      ]
    },
    {
      "cell_type": "markdown",
      "metadata": {
        "id": "8jZsggeHMtCq"
      },
      "source": [
        "Getting help:\n",
        "\n",
        "You can also get help from the documentation (docstrings) using the `help()` function or prefacing the method/function with a question mark:"
      ]
    },
    {
      "cell_type": "code",
      "execution_count": 163,
      "metadata": {
        "id": "YK9rgK5JMtCq",
        "outputId": "fb34a94f-2a1c-4ebc-85f4-fbe7c254adba",
        "colab": {
          "base_uri": "https://localhost:8080/"
        }
      },
      "outputs": [
        {
          "output_type": "stream",
          "name": "stdout",
          "text": [
            "Help on built-in function insert:\n",
            "\n",
            "insert(...) method of nrn.Section instance\n",
            "    section.insert(densityMechanismName) e.g. soma.insert('hh')\n",
            "\n"
          ]
        }
      ],
      "source": [
        "help(soma.insert)\n",
        "\n"
      ]
    },
    {
      "cell_type": "markdown",
      "metadata": {
        "id": "yoUHE-uJMtCq"
      },
      "source": [
        "## Step 3: Add membrane mechanisms\n",
        "\n",
        "Right now our section just a membrane capacitance with no resistance/conductance, so it looks like the circuit below"
      ]
    },
    {
      "cell_type": "code",
      "execution_count": 164,
      "metadata": {
        "id": "Q3HJBAWrMtCq",
        "outputId": "11a795db-61cf-417f-96fe-6d2c07268187",
        "colab": {
          "base_uri": "https://localhost:8080/",
          "height": 294
        }
      },
      "outputs": [
        {
          "output_type": "execute_result",
          "data": {
            "image/png": "[encoded data removed]",
            "text/plain": [
              "<IPython.core.display.Image object>"
            ]
          },
          "metadata": {
            "image/png": {
              "width": 250
            }
          },
          "execution_count": 164
        }
      ],
      "source": [
        "from IPython.display import Image\n",
        "\n",
        "Image('CompModNervSys-LIFneuron/resources/NEURON_circuit_cm.png',width=250)"
      ]
    },
    {
      "cell_type": "markdown",
      "metadata": {
        "id": "OZesNGxCMtCq"
      },
      "source": [
        "To start adding *parallel* membrane conductances, we can use a section's `insert` method. We use this to insert *density* mechanisms, which are membrane mechanisms that allow us to distribute a conductance across a section and specify it's density in terms of conductance per unit area (or current per unit area). \n",
        "\n",
        "There are a few built in density mechanisms listed in the [scripting NEURON basics tutorial](https://neuron.yale.edu/neuron/docs/scripting-neuron-basics), shown again below here:\n",
        "\n",
        "<table border=\"1\" class=\"docutils\">\n",
        "<colgroup>\n",
        "<col width=\"26%\" />\n",
        "<col width=\"74%\"  />\n",
        "</colgroup>\n",
        "<tbody valign=\"top\">\n",
        "<tr class=\"row-odd\"><td><tt>pas</tt></td>\n",
        "<td>Passive (“leak”) channel.</td>\n",
        "</tr>\n",
        "<tr class=\"row-even\"><td><tt>extracellular</tt></td>\n",
        "<td>For simulating effects of nonzero extracellular\n",
        "potential, as may happen with leaky patch clamps,\n",
        "or detailed propertes of the myelin sheath.</td>\n",
        "</tr>\n",
        "<tr class=\"row-odd\"><td><tt>hh</tt></td>\n",
        "<td>Hodgkin-Huxley sodium, potassium, and leakage channels.</td>\n",
        "</tr>\n",
        "</tbody>\n",
        "</table>"
      ]
    },
    {
      "cell_type": "markdown",
      "metadata": {
        "id": "mYo76XSNMtCq"
      },
      "source": [
        "Thousands of additional mechanisms are available as part of published model codes on <a href=\"http://modeldb.yale.edu\">ModelDB</a>. \n",
        "\n",
        "Eventually we'll use these to model voltage-gated ion channel conductances, but for now we'll start with just a passive \"leak\" channel, giving us our leaky integrator from last class. The passive channel mechanism is called `pas`:"
      ]
    },
    {
      "cell_type": "code",
      "execution_count": 165,
      "metadata": {
        "id": "J-H2lKqMMtCq",
        "outputId": "2851c511-dfd2-4706-dc93-e3c0f481b7da",
        "colab": {
          "base_uri": "https://localhost:8080/"
        }
      },
      "outputs": [
        {
          "output_type": "execute_result",
          "data": {
            "text/plain": [
              "soma"
            ]
          },
          "metadata": {},
          "execution_count": 165
        }
      ],
      "source": [
        "soma.insert('pas')"
      ]
    },
    {
      "cell_type": "markdown",
      "metadata": {
        "id": "up9vHQGMMtCr"
      },
      "source": [
        "Using `psection` we can see what parameters this mechanism has. You'll see it's in the `'density_mechs'` dictionary for density mechanisms under `pas`"
      ]
    },
    {
      "cell_type": "code",
      "execution_count": 166,
      "metadata": {
        "id": "aokJU4-bMtCr",
        "outputId": "e23b7a6a-166d-4321-dbde-d854a8ff7100",
        "colab": {
          "base_uri": "https://localhost:8080/"
        }
      },
      "outputs": [
        {
          "output_type": "execute_result",
          "data": {
            "text/plain": [
              "{'g': [0.001], 'e': [-70.0], 'i': [0.0]}"
            ]
          },
          "metadata": {},
          "execution_count": 166
        }
      ],
      "source": [
        "soma.psection()\n",
        "\n",
        "soma.psection()['density_mechs']['pas']\n"
      ]
    },
    {
      "cell_type": "markdown",
      "metadata": {
        "id": "tvIUxHPxMtCr"
      },
      "source": [
        "You can see there are three parameters (keys in the dictionary): `g`, `e`, and `i`. The two parameters we can actually set are `g` and `e`, which are the conductance `g` (in $S/cm^2$) and reversal potential `e` (in $mV$) of this leak channel. `i` is just a variable displaying the current at this moment through this density mechanism, so we can't set it, but we could use it to record the current through this conductance if we wanted. "
      ]
    },
    {
      "cell_type": "markdown",
      "metadata": {
        "id": "SZYPzfqfMtCr"
      },
      "source": [
        "But first...a note about assigning variables to a section: \n",
        "\n",
        "NEURON treats each section as a cable, meaning it allows axial current flow along the cable and through the membrane. Sections are divied into equal size *segments* by setting the `nseg` parameter. You can then access variables like the voltage or passive conductance at any point along your section using the normalized position `x` along the section, which varies from 0 to 1. Remember, this is a numerical model so the values are only actually being solved for at the segment locations, but NEURON linearly interpolates values like voltage between the segment centers within each section. In general, `nseg` should be an odd number, which means accessing (0.5) always gives the value at the middle of the section.\n",
        "\n",
        "We haven't discussed cable theory yet, so for now we'll stick to a single compartment model by setting `nseg=1`, which means the axial current flow can be ignored and the model behaves like a point neuron. \n",
        "\n",
        "To summarize, we access sections by their name and segments by some location on the section.\n",
        "\n",
        "* Section: ``section``\n",
        "* Segment: ``section(loc)``"
      ]
    },
    {
      "cell_type": "markdown",
      "metadata": {
        "id": "PJdQvRD7MtCr"
      },
      "source": [
        "Using the Python `type` function can tell us what a variable is:"
      ]
    },
    {
      "cell_type": "code",
      "execution_count": 167,
      "metadata": {
        "id": "51q6P1AZMtCr",
        "outputId": "868853f3-f964-4921-afe3-f1b99fdd6f37",
        "colab": {
          "base_uri": "https://localhost:8080/"
        }
      },
      "outputs": [
        {
          "output_type": "stream",
          "name": "stdout",
          "text": [
            "type(soma) = <class 'nrn.Section'>\n",
            "type(soma(0.5)) = <class 'nrn.Segment'>\n"
          ]
        }
      ],
      "source": [
        "print(\"type(soma) = {}\".format(type(soma)))\n",
        "print(\"type(soma(0.5)) = {}\".format(type(soma(0.5))))"
      ]
    },
    {
      "cell_type": "markdown",
      "metadata": {
        "id": "DGoBOt7YMtCr"
      },
      "source": [
        "Segment variables follow the idiom:\n",
        "\n",
        "    section(loc).var\n",
        "\n",
        "And for mechanisms on the segment:\n",
        "\n",
        "    section(loc).mech.var\n",
        "\n",
        "or\n",
        "\n",
        "    section(loc).var_mech\n",
        "\n",
        "The first form is preferred."
      ]
    },
    {
      "cell_type": "markdown",
      "metadata": {
        "id": "5FNawxEhMtCr"
      },
      "source": [
        "Okay now that we got through all that, use the passive leak channel to model a neuron with a specific membrane resistance $R_{m} = 33 k \\Omega/cm^{2}$, reversal potential $E_{rev}=-65 mV$ and specific membrane capacitance $c_{m} = 1 \\mu F/cm^{2}$. Remember the relationshib between *resistance* and *conductance*. And if you want to use the last idiom (`var_mech`), the mechanism in this case is `pas`."
      ]
    },
    {
      "cell_type": "code",
      "execution_count": 168,
      "metadata": {
        "id": "9_kbheZZMtCs"
      },
      "outputs": [],
      "source": [
        "\n",
        "soma.cm = 1\n",
        "soma(0.5).pas.g = 1/33 *1000\n",
        "soma(0.5).pas.e = -65\n"
      ]
    },
    {
      "cell_type": "markdown",
      "metadata": {
        "id": "x6r8AFCNMtCs"
      },
      "source": [
        "Another useful variable we can now access is the `area` parameter, which tells us the surface area of a segment within our section. We already set the length `L` and diameter `diam` above, so now let's see what surface area that gave us. NEURON outputs the area in $\\mu m^{2}$"
      ]
    },
    {
      "cell_type": "code",
      "execution_count": 169,
      "metadata": {
        "id": "HtQBv9iiMtCs",
        "outputId": "47b8067a-88d2-4745-bac8-0f770e7238f8",
        "colab": {
          "base_uri": "https://localhost:8080/"
        }
      },
      "outputs": [
        {
          "output_type": "execute_result",
          "data": {
            "text/plain": [
              "1256.6370614359173"
            ]
          },
          "metadata": {},
          "execution_count": 169
        }
      ],
      "source": [
        "soma(0.5).area()"
      ]
    },
    {
      "cell_type": "markdown",
      "metadata": {
        "id": "cB2krMo1MtCs"
      },
      "source": [
        "## Step 4: Insert a stimulus\n",
        "\n",
        "We can add a current injection (also known as a current *clamp* because it clamps the current to the value we decide. This is done with the `IClamp` object, which is a `hoc` object, so we have to access through the `h` submodule. `IClamp` just requires us to specify the *segment* in which we want to insert it. This is a type of *Point Process*, which are just point sources of current. To insert it to the middle segment (our only segment in this case) of the soma, we use:"
      ]
    },
    {
      "cell_type": "code",
      "execution_count": 170,
      "metadata": {
        "id": "3rkoLGlPMtCs"
      },
      "outputs": [],
      "source": [
        "iclamp = h.IClamp(soma(0.5))"
      ]
    },
    {
      "cell_type": "markdown",
      "metadata": {
        "id": "eG56vXvXMtCs"
      },
      "source": [
        "Below we'll use `dir` to look at the methods and parameters built into `IClamp`"
      ]
    },
    {
      "cell_type": "code",
      "execution_count": 171,
      "metadata": {
        "id": "WvHOaQKqMtCs",
        "outputId": "bfc98b2f-4516-48b3-b277-35b056736a56",
        "colab": {
          "base_uri": "https://localhost:8080/"
        }
      },
      "outputs": [
        {
          "output_type": "stream",
          "name": "stdout",
          "text": [
            "['amp', 'baseattr', 'delay', 'dur', 'get_loc', 'get_segment', 'has_loc', 'hname', 'hocobjptr', 'i', 'loc', 'same']\n"
          ]
        }
      ],
      "source": [
        "print([item for item in dir(iclamp) if not item.startswith('__')])"
      ]
    },
    {
      "cell_type": "markdown",
      "metadata": {
        "id": "V9dwgnV5MtCs"
      },
      "source": [
        "The three main properties we'll want to set should be familiar from last exercise: \n",
        "\n",
        "`amp` - the amplitude in $nA$\n",
        "\n",
        "`delay` - the time the current stimulus turns in $ms$\n",
        "\n",
        "`dur` - the duration the current stimulus is held at `amp` (stays on) in $ms$\n",
        "\n",
        "Below, set the delay to $5 \\; ms$, the duration to $20 \\; ms$, and the amplitude to $50 \\; pA$"
      ]
    },
    {
      "cell_type": "code",
      "execution_count": 172,
      "metadata": {
        "id": "xojBZ82dMtCt"
      },
      "outputs": [],
      "source": [
        "iclamp.delay = 5\n",
        "iclamp.dur = 20\n",
        "iclamp.amp = 0.05"
      ]
    },
    {
      "cell_type": "markdown",
      "metadata": {
        "id": "5IltURIQMtCt"
      },
      "source": [
        "Another useful method is the `get_segment()` method, which outputs the segment the current clamp is inserted to. Try using it below:"
      ]
    },
    {
      "cell_type": "code",
      "execution_count": 173,
      "metadata": {
        "id": "-Jh0LvrDMtCt",
        "outputId": "a51d89b3-91b1-4765-fb24-7ee88d0d7860",
        "colab": {
          "base_uri": "https://localhost:8080/"
        }
      },
      "outputs": [
        {
          "output_type": "execute_result",
          "data": {
            "text/plain": [
              "soma(0.5)"
            ]
          },
          "metadata": {},
          "execution_count": 173
        }
      ],
      "source": [
        "iclamp.get_segment()"
      ]
    },
    {
      "cell_type": "markdown",
      "metadata": {
        "id": "koYLjJCnMtCt"
      },
      "source": [
        "Now when we use `psection` we can see the `IClamp` has been added to the model in the `point_processes` dictionary. Use it below to check"
      ]
    },
    {
      "cell_type": "code",
      "execution_count": 174,
      "metadata": {
        "id": "GkqlwQ_qMtCt",
        "outputId": "413d5b9d-38fa-4a55-f942-bb537bb6fe71",
        "colab": {
          "base_uri": "https://localhost:8080/"
        }
      },
      "outputs": [
        {
          "output_type": "execute_result",
          "data": {
            "text/plain": [
              "{'point_processes': {'IClamp': {IClamp[4]}},\n",
              " 'density_mechs': {'pas': {'g': [30.303030303030305],\n",
              "   'e': [-65.0],\n",
              "   'i': [0.0]}},\n",
              " 'ions': {},\n",
              " 'morphology': {'L': 20.0,\n",
              "  'diam': [20.0],\n",
              "  'pts3d': [],\n",
              "  'parent': None,\n",
              "  'trueparent': None},\n",
              " 'nseg': 1,\n",
              " 'Ra': 35.4,\n",
              " 'cm': [1.0],\n",
              " 'regions': set(),\n",
              " 'species': set(),\n",
              " 'name': 'soma',\n",
              " 'hoc_internal_name': '__nrnsec_0x3156a30',\n",
              " 'cell': None}"
            ]
          },
          "metadata": {},
          "execution_count": 174
        }
      ],
      "source": [
        "soma.psection()"
      ]
    },
    {
      "cell_type": "markdown",
      "metadata": {
        "id": "H3ZsFRrAMtCt"
      },
      "source": [
        "## Step 5: Add recording variables\n",
        "\n",
        "Now we could run a simulation but we wouldn't be able to see our output unless we were using NEURON's GUI to visualize the results. Even then, we wouldn't be able to use our simulation results to do any analysis. We can record variables during a simulation using NEURON's `Vector` class (`h.Vector`), which has a useful method called `record`. This class can be tricky to use. To specify a variable to record, we actually have to prefix it's name with `_ref_`. So to record the membrane potential at the soma `soma(0.5).v` and corresponding time points, which is always stored in a hoc variable `h.t` we use:"
      ]
    },
    {
      "cell_type": "code",
      "execution_count": 175,
      "metadata": {
        "id": "TXlRyIdDMtCt",
        "outputId": "eaa403d0-e4e0-4a71-db9f-c221fb84806e",
        "colab": {
          "base_uri": "https://localhost:8080/"
        }
      },
      "outputs": [
        {
          "output_type": "execute_result",
          "data": {
            "text/plain": [
              "Vector[32]"
            ]
          },
          "metadata": {},
          "execution_count": 175
        }
      ],
      "source": [
        "v = h.Vector() # create an empty vector to store voltage (mV)\n",
        "t = h.Vector() # create an empty vector to store time (ms)\n",
        "v.record(soma(0.5)._ref_v)\n",
        "t.record(h._ref_t)"
      ]
    },
    {
      "cell_type": "markdown",
      "metadata": {
        "id": "HmihafyrMtCt"
      },
      "source": [
        "Try writing similar code to record the current delivered by our `IClamp`, which we saved to the python variable `iclamp`, below and save it in a vectort called `i_stim`."
      ]
    },
    {
      "cell_type": "code",
      "execution_count": 176,
      "metadata": {
        "id": "s0QcWJ2DMtCt",
        "outputId": "8d06cb42-eed9-4a82-e7e8-6dc5ba74c94b",
        "colab": {
          "base_uri": "https://localhost:8080/"
        }
      },
      "outputs": [
        {
          "output_type": "execute_result",
          "data": {
            "text/plain": [
              "Vector[33]"
            ]
          },
          "metadata": {},
          "execution_count": 176
        }
      ],
      "source": [
        "i_stim = h.Vector()\n",
        "i_stim.record(iclamp._ref_i)"
      ]
    },
    {
      "cell_type": "markdown",
      "metadata": {
        "id": "uTkoCwbfMtCu"
      },
      "source": [
        "## Step 6: Run the simulation\n",
        "\n",
        "Now we're almost ready to run. We just need to specify our initialization condition (initial voltage), simulation time step, and duration. By default, NEURON will integrate the differential equation describing our system using a different form of the Euler method we discussed called *Backward euler*, which is a more stable and accurate version. There are more advanced integration methods available (Crank-nicholson and variable time step methods), but this should be sufficient for our purposes. \n",
        "\n",
        "Let's use an initial voltage, set by `h.v_init` to our reversal potential, simulation duration, set by `h.tstop` to $20\\; ms$, and time step, step by `h.dt` to $0.1\\; ms$.  "
      ]
    },
    {
      "cell_type": "code",
      "execution_count": 177,
      "metadata": {
        "id": "bSC7iwIHMtCu"
      },
      "outputs": [],
      "source": [
        "# Set simulation parameters\n",
        "h.v_init = soma(0.5).pas.g # Your code goes here\n",
        "h.tstop = 150 # Your code goes here\n",
        "h.dt = .1 # Your code goes here"
      ]
    },
    {
      "cell_type": "markdown",
      "metadata": {
        "id": "wkKIxP9SMtCu"
      },
      "source": [
        "Okay, now we're finally ready to go. To run the simulation, we can use the `h.run()` NEURON function. The code cell below both runs the model and plots it using `matplotlib`, wrapped in a function called `run_and_plot_sim()`"
      ]
    },
    {
      "cell_type": "code",
      "execution_count": 178,
      "metadata": {
        "id": "iuqzjmuzMtCu",
        "outputId": "0ee91466-9b82-445c-bc7d-2600291644c2",
        "colab": {
          "base_uri": "https://localhost:8080/",
          "height": 467
        }
      },
      "outputs": [
        {
          "output_type": "stream",
          "name": "stdout",
          "text": [
            "Changed dt\n"
          ]
        },
        {
          "output_type": "display_data",
          "data": {
            "text/plain": [
              "<Figure size 640x480 with 2 Axes>"
            ],
            "image/png": "[encoded data removed]"
          },
          "metadata": {}
        }
      ],
      "source": [
        "def run_and_plot_sim(t,v,i_stim):\n",
        "    h.run()\n",
        "       \n",
        "    # Plot results\n",
        "    fig = plt.figure()\n",
        "    ax = fig.add_subplot(211)\n",
        "    ax.plot(t,v)\n",
        "    ax.set_ylabel('V (mV)')\n",
        "    ax = fig.add_subplot(212)\n",
        "    ax.plot(t,i_stim*1e3)\n",
        "    ax.set_xlabel('time (ms)')\n",
        "    ax.set_ylabel('i (pA)')\n",
        "\n",
        "run_and_plot_sim(t,v,i_stim)"
      ]
    },
    {
      "cell_type": "markdown",
      "metadata": {
        "id": "MvWKvlAOMtCu"
      },
      "source": [
        "What happens if we set the passive conductance extremely low (effectively turning it off)? Try it and run/plot below with `run_and_plot_sim()`."
      ]
    },
    {
      "cell_type": "code",
      "execution_count": 179,
      "metadata": {
        "id": "jy29vCf0MtCu",
        "outputId": "bc215375-0b59-4050-d87a-de21001de116",
        "colab": {
          "base_uri": "https://localhost:8080/",
          "height": 449
        }
      },
      "outputs": [
        {
          "output_type": "display_data",
          "data": {
            "text/plain": [
              "<Figure size 640x480 with 2 Axes>"
            ],
            "image/png": "[encoded data removed]"
          },
          "metadata": {}
        }
      ],
      "source": [
        "soma(0.5).pas.g = 1e-8\n",
        "\n",
        "run_and_plot_sim(t,v,i_stim)"
      ]
    },
    {
      "cell_type": "markdown",
      "metadata": {
        "id": "MW7eiIWmMtCu"
      },
      "source": [
        "<span style=\"color:red\"> \n",
        "<b><i>Q2:</b></i> Describe what changed about the voltage dynamics and why, in terms of the model's electrical properties\n",
        "</span>"
      ]
    },
    {
      "cell_type": "markdown",
      "metadata": {
        "id": "l2rv_TbWMtCu"
      },
      "source": [
        "# Simulating the Leaky integrate and fire model in NEURON\n",
        "\n",
        "So far, we've simulated the *passive* properties of neurons. But as we know, as soon as the membrane potential reaches a critical value, known as the *threshold*, neurons fire action potentials (or \"spikes\"). Next class, we'll start introducing the detailed model of the squid axon developed by Alan Hodgkin and Alduous Huxley in 1952, which has mostly held up for over 70 years. In the most basic terms, action potentials consist of a neuron's membrane voltage increasing due to inputs (whether from current injection or synapses), reaching a threshold, rapidly going to a high depolarized value, then returning back to the rest potential and being unable to fire for some period of time, termed the refractory period. \n",
        "\n",
        "People have modeled this \"phenomenologically\" for decades using the leaky integrate and fire neuron model, which simply adds a nonlinearity to this otherwise linear model. Whenever the votlage reaches a threshold (we define), we basically say the cell \"fired\", reset its potential to rest, and hold it there until the refractory period is over. Spikes are treated as an instantaneous event that's not actually captured by the voltage dynamics of the model. We could artificially force the voltage to a value of our choosing (say +40 mV), but typically people are more interested in the spike *timing* when using these models. \n",
        "\n",
        "The model the membrane is the same, we just add the rule described above to the integration scheme\n",
        "\n",
        "$\\frac{dV_{m}(t)}{dt} =  I(t)/C_{m} - \\frac{V_{m}(t) - V_{r}}{R_{m}C_{m}}$\n",
        "\n",
        "\n",
        "Since NEURON is made for biophysical neuron modeling, modeling the LIF neuron model is a little tricky. There's a built in model of integrate and fire neurons in NEURON ([here](https://www.neuron.yale.edu/neuron/static/py_doc/modelspec/programmatic/mechanisms/mech.html#IntFire4)), but the voltage at each point in time is hard to extract since takes advantage of the analytical solution for this model's voltage to speed up simulation and \"skip\" time points between action potentials. \n",
        "\n",
        "So below, I've included a version of this model I wrote in python. After that, I've included a version in NEURON that does the same thing, but  takes advantage of some more advanced functions that we won't cover just yet. "
      ]
    },
    {
      "cell_type": "code",
      "execution_count": 180,
      "metadata": {
        "id": "gD-1fpKdMtCv"
      },
      "outputs": [],
      "source": [
        "def simLIFneuron(dt,tstop,V0,Rm,Cm,Vr,I,Vth,Vreset,refrac_per=2,AP_peak=40):\n",
        "    # dt - time step (ms)\n",
        "    # tstop - simulation duration/last time point (ms)\n",
        "    # V0 - initial membrane voltage (mV)\n",
        "    # Rm - membrane resistance (MOhm)\n",
        "    # Cm - membrane capacitance (nF)\n",
        "    # Vr - rest potential (mV)\n",
        "    # I - arbitrary current vector (nA)\n",
        "    # Vth - Threshold for AP firing (mV)\n",
        "    # refrac_per - refractory period (ms)\n",
        "    # AP_peak - peak AP value to set Vm after crossing threshold\n",
        "    t = np.arange(0,tstop+dt,dt) # time vector (ms)    \n",
        "    spike_times = []\n",
        "    Vm = np.zeros(t.shape)\n",
        "    Vm[0] = V0\n",
        "    for i in range(0,len(t)-1):        \n",
        "        dVm_dt = I[i]/Cm - (Vm[i] - Vr)/(Rm*Cm) # with I/Cm gives V/s (same as mV/ms) with I in nA, Cm in nF\n",
        "                                                     # Rm*Cm gives ms with Rm in MOhm and Cm in nF (1e6*1e-9 = 1e-3 sec)                                                             \n",
        "        if len(spike_times) > 0 and t[i+1] - spike_times[-1] < refrac_per:\n",
        "            Vm[i+1] = Vreset # Fix Vm at Vreset\n",
        "        else:\n",
        "            Vm[i+1] = dt*dVm_dt + Vm[i] # normal evolution of Vm\n",
        "        \n",
        "        if Vm[i+1] > Vth: # Vm crosses threshold for firing \n",
        "            Vm[i+1] = Vreset # set Vm to AP peak to simulate a spike in single time step\n",
        "            spike_times.append(t[i+1])            \n",
        "\n",
        "    return Vm,t,spike_times\n",
        "\n",
        "def genCurrentPulse(dt,tstop,I_del,I_dur,I_amp):\n",
        "    t = np.arange(0,tstop+dt,dt) # time vector (ms)    \n",
        "    I = np.zeros(t.shape) # A\n",
        "    I[np.logical_and(t > I_del, t <= I_del + I_dur)] = I_amp\n",
        "    return I, t"
      ]
    },
    {
      "cell_type": "markdown",
      "metadata": {
        "id": "KG9nVzqeMtCv"
      },
      "source": [
        "Make a function below to run and plot the output of these \"python\" simulations"
      ]
    },
    {
      "cell_type": "code",
      "execution_count": 181,
      "metadata": {
        "id": "OZHDBMDHMtCv"
      },
      "outputs": [],
      "source": [
        "def run_and_plot_LIFpy(dt,tstop,V0,Rm,Cm,Vr,Vth,Vreset,I_del,I_dur,I_amp,refrac_per=2,AP_peak=40):\n",
        "    \n",
        "    # Your code goes here\n",
        "\n",
        "    return Vm, spike_times, I, t"
      ]
    },
    {
      "cell_type": "markdown",
      "metadata": {
        "id": "NpRF2jfLMtCv"
      },
      "source": [
        "Now, let's simulate a case of constant current injection into the NEURON model we started building earlier in NEURON.\n",
        "\n",
        "Again, we'll use a specific membrane resistance $R_{m} = 33 k \\Omega/cm^{2}$, reversal potential $E_{rev}=-65 mV$ and specific membrane capacitance $c_{m} = 1 \\mu F/cm^{2}$. You may notice, the surface area of a cylinder with diameter $diam$ and length $L$ equal to its diameter (which we used in NEURON) is the same as a sphere with the same diameter (which we were modeling earlier). This doesn't include the surface area of the caps, which aren't represented in the cable model. So, you can use either case to calculate the surface area for the model and you should get the same surface area as we got earlier. \n",
        "\n",
        "Apply a constant $50 \\; pA$ current injection starting at $5 \\; ms$, this time for $100 \\; ms$, and end your simulation at $150 \\; ms$. Set the initial voltage to the rest potential. \n",
        "\n",
        "For the LIF neuron model, we'll use a threshold of $40 \\; mV$, a refractory period of $4 \\; ms$, a reset potential of our rest potential, and peak AP of $40 \\; ms$ (this latter parameter doesn't matter and is pretty much just for visualization). "
      ]
    },
    {
      "cell_type": "code",
      "execution_count": 182,
      "metadata": {
        "id": "ofXvvvlzMtCv",
        "outputId": "61561abb-78aa-4f7e-84bb-d7c9ea5ce737",
        "colab": {
          "base_uri": "https://localhost:8080/",
          "height": 206
        }
      },
      "outputs": [
        {
          "output_type": "error",
          "ename": "TypeError",
          "evalue": "ignored",
          "traceback": [
            "\u001b[0;31m---------------------------------------------------------------------------\u001b[0m",
            "\u001b[0;31mTypeError\u001b[0m                                 Traceback (most recent call last)",
            "\u001b[0;32m<ipython-input-182-4cd7f058b2bd>\u001b[0m in \u001b[0;36m<cell line: 11>\u001b[0;34m()\u001b[0m\n\u001b[1;32m      9\u001b[0m \u001b[0;34m\u001b[0m\u001b[0m\n\u001b[1;32m     10\u001b[0m \u001b[0;34m\u001b[0m\u001b[0m\n\u001b[0;32m---> 11\u001b[0;31m \u001b[0mVm\u001b[0m\u001b[0;34m,\u001b[0m \u001b[0mspike_times\u001b[0m\u001b[0;34m,\u001b[0m \u001b[0mI\u001b[0m\u001b[0;34m,\u001b[0m \u001b[0mt\u001b[0m \u001b[0;34m=\u001b[0m \u001b[0mrun_and_plot_LIFpy\u001b[0m\u001b[0;34m(\u001b[0m\u001b[0;34m)\u001b[0m\u001b[0;34m\u001b[0m\u001b[0;34m\u001b[0m\u001b[0m\n\u001b[0m",
            "\u001b[0;31mTypeError\u001b[0m: run_and_plot_LIFpy() missing 11 required positional arguments: 'dt', 'tstop', 'V0', 'Rm', 'Cm', 'Vr', 'Vth', 'Vreset', 'I_del', 'I_dur', and 'I_amp'"
          ]
        }
      ],
      "source": [
        "# Model parameters\n",
        "# Your code goes here\n",
        "\n",
        "\n",
        "# Stimulation parameters\n",
        "\n",
        "\n",
        "# Simulation parameters\n",
        "\n",
        "\n",
        "Vm, spike_times, I, t = run_and_plot_LIFpy()\n"
      ]
    },
    {
      "cell_type": "markdown",
      "metadata": {
        "id": "5Tud2XOpMtCv"
      },
      "source": [
        "To do this in neuron, we'll use a class I created called `LIFcell`. It includes all the relevant methods to generate the cell and store recordings. We'll use it below to do the same thing, but using the NEURON simulator instead. At the moment, it may not be obvious why we'd want to do this, but if you want to add new membrane conductances or connect neurons up into networks with synapses, NEURON's functionality will become really powerful. "
      ]
    },
    {
      "cell_type": "code",
      "execution_count": null,
      "metadata": {
        "id": "YZGeH7rMMtCv"
      },
      "outputs": [],
      "source": [
        "import shutil\n",
        "shutil.copy('CompModNervSys-LIFneuron/LIFcell.py','.') # copy LIF cell to current directory for easier importing"
      ]
    },
    {
      "cell_type": "markdown",
      "metadata": {
        "id": "YQF5DtYdMtCw"
      },
      "source": [
        "We also need to compile a file used by NEURON to compute the membrane mechanism more efficiently, called a 'mod' file. You may need to do this step if you use custom membrane mechanisms downloaded from other models. "
      ]
    },
    {
      "cell_type": "code",
      "execution_count": null,
      "metadata": {
        "id": "znAspw1AMtCw"
      },
      "outputs": [],
      "source": [
        "!nrnivmodl CompModNervSys-LIFneuron/mechanisms # compiles additional membrane mechanism file (mod file) for LIF neuron"
      ]
    },
    {
      "cell_type": "code",
      "execution_count": null,
      "metadata": {
        "id": "DYyMKHvLMtCw"
      },
      "outputs": [],
      "source": [
        "from neuron import h # reimport\n",
        "from LIFcell import LIFcell\n",
        "\n",
        "# Create cell\n",
        "cell = LIFcell(0)\n",
        "cell._setup_recordings() # reinitalize recordings\n",
        "\n",
        "h.topology() # check that our new cell exists"
      ]
    },
    {
      "cell_type": "code",
      "execution_count": null,
      "metadata": {
        "id": "2P7nCjt2MtCw"
      },
      "outputs": [],
      "source": [
        "# Add stimulation\n",
        "iclamp = h.IClamp(cell.soma(0.5))\n",
        "\n",
        "# Set amplitude, delay (start time), and duration\n",
        "iclamp.amp = 0.05 # nA\n",
        "iclamp.delay = 5 # ms\n",
        "iclamp.dur = 100 # ms\n",
        "\n",
        "# Record current clamp again\n",
        "iclamp_rec = h.Vector()\n",
        "iclamp_rec.record(iclamp._ref_i)\n"
      ]
    },
    {
      "cell_type": "code",
      "execution_count": null,
      "metadata": {
        "id": "tjMRYbrPMtCw"
      },
      "outputs": [],
      "source": [
        "def run_and_plot_LIFnrn(cell,i_stim):\n",
        "    h.run()\n",
        "    t = cell.t.to_python(np.zeros(len(cell.t)))  # convert to numpy arrays (not actually necessary for plotting)\n",
        "    v = cell.soma_v.to_python(np.zeros(len(cell.soma_v)))\n",
        "    spike_times = cell.spike_times.to_python(np.zeros(len(cell.spike_times))) # this one does need to be a numpy array\n",
        "    i_stim = i_stim.to_python(np.zeros(len(i_stim))) # same here, numpy arrays allows multiplying by scalar but NEURON Vectors don't    \n",
        "    # Plot results\n",
        "    fig = plt.figure()\n",
        "    ax = fig.add_subplot(211)\n",
        "    ax.plot(t,v)\n",
        "    ax.vlines(spike_times,ymin=cell.soma(0.5).e_pas,ymax=40,colors='r')\n",
        "    ax.set_ylabel('V (mV)')\n",
        "    ax = fig.add_subplot(212)\n",
        "    ax.plot(t,i_stim*1e3)\n",
        "    ax.set_xlabel('time (ms)')\n",
        "    ax.set_ylabel('i (pA)')\n",
        "\n",
        "    return v, spike_times, i_stim, t\n",
        "\n"
      ]
    },
    {
      "cell_type": "code",
      "execution_count": null,
      "metadata": {
        "id": "cOnjxwPYMtCw"
      },
      "outputs": [],
      "source": [
        "# Set simulation parameters\n",
        "h.dt = 0.1 # ms - time step\n",
        "h.v_init = cell.soma(0.5).e_pas # initial voltage (same as reversal potential)\n",
        "h.tstop = 150 # ms - simulation duration\n",
        "# Set the LIF model parameters\n",
        "h.thresh_SpikeOut = -40\t# (mV)\n",
        "h.refrac_SpikeOut = 4 # (ms)\n",
        "h.vrefrac_SpikeOut = cell.soma.e_pas # (mV) reset potential\n",
        "# Run and plot simulation\n",
        "\n",
        "v, spike_times, i_stim, t = run_and_plot_LIFnrn(cell,iclamp_rec)"
      ]
    },
    {
      "cell_type": "markdown",
      "metadata": {
        "id": "FJn0Y2cKMtCw"
      },
      "source": [
        "The results may not be identical due to the different integration methods, but they should be pretty close. Let's use NEURON to see how varying the strength of stimulation alters the firing frequency. \n",
        "\n",
        "Below, in a `for` loop, vary the current amplitude over a reasonable range and measure the average frequency (number of spikes divided by duration of the stimulus). Then, plot the frequency in $Hz$ vs. the current amplitude. This is what's called an *F-I* curve of frequency-input curve. "
      ]
    },
    {
      "cell_type": "code",
      "execution_count": null,
      "metadata": {
        "id": "z3GRzX3DMtCw"
      },
      "outputs": [],
      "source": [
        "# Your code goes here"
      ]
    },
    {
      "cell_type": "markdown",
      "metadata": {
        "id": "h8DRCG0LMtCx"
      },
      "source": [
        "Now, try modifying the membrane resistance using `cell.soma(0.5).g_pas` to double and half the current value and overlaying the F-I curves of these three models on the same axes.\n",
        "\n"
      ]
    },
    {
      "cell_type": "code",
      "execution_count": null,
      "metadata": {
        "id": "4LBD4wT5MtCx"
      },
      "outputs": [],
      "source": [
        "# Your code goes here"
      ]
    },
    {
      "cell_type": "markdown",
      "metadata": {
        "id": "4j06dcXLMtCx"
      },
      "source": [
        "<span style=\"color:red\"> \n",
        "<b><i>Q3:</b></i> How does changing membrane resistance alter the F-I curve? What might this mean for the neuron's relative excitability in a network, i.e. how easily it can generate action potentials?\n",
        "</span>"
      ]
    }
  ],
  "metadata": {
    "colab": {
      "provenance": [],
      "toc_visible": true,
      "include_colab_link": true
    },
    "kernelspec": {
      "display_name": "cmns_env",
      "language": "python",
      "name": "python3"
    },
    "language_info": {
      "codemirror_mode": {
        "name": "ipython",
        "version": 3
      },
      "file_extension": ".py",
      "mimetype": "text/x-python",
      "name": "python",
      "nbconvert_exporter": "python",
      "pygments_lexer": "ipython3",
      "version": "3.9.16"
    },
    "vscode": {
      "interpreter": {
        "hash": "d0488761690764cced0e7b1e141a742f06ea2f3fa8f54952eb1b54a94bfd6a2a"
      }
    }
  },
  "nbformat": 4,
  "nbformat_minor": 0
}